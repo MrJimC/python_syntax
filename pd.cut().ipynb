{
 "cells": [
  {
   "cell_type": "markdown",
   "metadata": {},
   "source": [
    "# `pd.cut()` & `pd.qcut()`\n",
    "`pd.cut`: 按照數據的`值`進行分割 (每個bins的數據量`不一樣`，但bins數值區間距離`差不多`) <br>\n",
    "`pd.qcut`: 按照數據本身的`數量`進行分割 (每個bins的數據量`差不多`，但bins數值區間距離`不一樣`) \n",
    "\n",
    "---"
   ]
  },
  {
   "cell_type": "code",
   "execution_count": 1,
   "metadata": {},
   "outputs": [],
   "source": [
    "import pandas as pd \n",
    "import numpy as np "
   ]
  },
  {
   "cell_type": "code",
   "execution_count": 2,
   "metadata": {},
   "outputs": [
    {
     "data": {
      "text/html": [
       "<div>\n",
       "<style scoped>\n",
       "    .dataframe tbody tr th:only-of-type {\n",
       "        vertical-align: middle;\n",
       "    }\n",
       "\n",
       "    .dataframe tbody tr th {\n",
       "        vertical-align: top;\n",
       "    }\n",
       "\n",
       "    .dataframe thead th {\n",
       "        text-align: right;\n",
       "    }\n",
       "</style>\n",
       "<table border=\"1\" class=\"dataframe\">\n",
       "  <thead>\n",
       "    <tr style=\"text-align: right;\">\n",
       "      <th></th>\n",
       "      <th>number</th>\n",
       "    </tr>\n",
       "  </thead>\n",
       "  <tbody>\n",
       "    <tr>\n",
       "      <td>0</td>\n",
       "      <td>35</td>\n",
       "    </tr>\n",
       "    <tr>\n",
       "      <td>1</td>\n",
       "      <td>27</td>\n",
       "    </tr>\n",
       "    <tr>\n",
       "      <td>2</td>\n",
       "      <td>3</td>\n",
       "    </tr>\n",
       "    <tr>\n",
       "      <td>3</td>\n",
       "      <td>30</td>\n",
       "    </tr>\n",
       "    <tr>\n",
       "      <td>4</td>\n",
       "      <td>30</td>\n",
       "    </tr>\n",
       "    <tr>\n",
       "      <td>5</td>\n",
       "      <td>81</td>\n",
       "    </tr>\n",
       "    <tr>\n",
       "      <td>6</td>\n",
       "      <td>91</td>\n",
       "    </tr>\n",
       "    <tr>\n",
       "      <td>7</td>\n",
       "      <td>25</td>\n",
       "    </tr>\n",
       "    <tr>\n",
       "      <td>8</td>\n",
       "      <td>36</td>\n",
       "    </tr>\n",
       "    <tr>\n",
       "      <td>9</td>\n",
       "      <td>2</td>\n",
       "    </tr>\n",
       "  </tbody>\n",
       "</table>\n",
       "</div>"
      ],
      "text/plain": [
       "   number\n",
       "0      35\n",
       "1      27\n",
       "2       3\n",
       "3      30\n",
       "4      30\n",
       "5      81\n",
       "6      91\n",
       "7      25\n",
       "8      36\n",
       "9       2"
      ]
     },
     "execution_count": 2,
     "metadata": {},
     "output_type": "execute_result"
    }
   ],
   "source": [
    "df = pd.DataFrame({'number':np.random.randint(1, 100, 10)}) \n",
    "df"
   ]
  },
  {
   "cell_type": "markdown",
   "metadata": {},
   "source": [
    "---"
   ]
  },
  {
   "cell_type": "markdown",
   "metadata": {},
   "source": [
    "## `pd.cut()`"
   ]
  },
  {
   "cell_type": "markdown",
   "metadata": {},
   "source": [
    "***Example 1.***<br>\n",
    "- Customized bins"
   ]
  },
  {
   "cell_type": "code",
   "execution_count": 3,
   "metadata": {},
   "outputs": [
    {
     "data": {
      "text/html": [
       "<div>\n",
       "<style scoped>\n",
       "    .dataframe tbody tr th:only-of-type {\n",
       "        vertical-align: middle;\n",
       "    }\n",
       "\n",
       "    .dataframe tbody tr th {\n",
       "        vertical-align: top;\n",
       "    }\n",
       "\n",
       "    .dataframe thead th {\n",
       "        text-align: right;\n",
       "    }\n",
       "</style>\n",
       "<table border=\"1\" class=\"dataframe\">\n",
       "  <thead>\n",
       "    <tr style=\"text-align: right;\">\n",
       "      <th></th>\n",
       "      <th>number</th>\n",
       "      <th>cut_group</th>\n",
       "    </tr>\n",
       "  </thead>\n",
       "  <tbody>\n",
       "    <tr>\n",
       "      <td>0</td>\n",
       "      <td>35</td>\n",
       "      <td>(20, 40]</td>\n",
       "    </tr>\n",
       "    <tr>\n",
       "      <td>1</td>\n",
       "      <td>27</td>\n",
       "      <td>(20, 40]</td>\n",
       "    </tr>\n",
       "    <tr>\n",
       "      <td>2</td>\n",
       "      <td>3</td>\n",
       "      <td>(1, 20]</td>\n",
       "    </tr>\n",
       "    <tr>\n",
       "      <td>3</td>\n",
       "      <td>30</td>\n",
       "      <td>(20, 40]</td>\n",
       "    </tr>\n",
       "    <tr>\n",
       "      <td>4</td>\n",
       "      <td>30</td>\n",
       "      <td>(20, 40]</td>\n",
       "    </tr>\n",
       "    <tr>\n",
       "      <td>5</td>\n",
       "      <td>81</td>\n",
       "      <td>(80, 100]</td>\n",
       "    </tr>\n",
       "    <tr>\n",
       "      <td>6</td>\n",
       "      <td>91</td>\n",
       "      <td>(80, 100]</td>\n",
       "    </tr>\n",
       "    <tr>\n",
       "      <td>7</td>\n",
       "      <td>25</td>\n",
       "      <td>(20, 40]</td>\n",
       "    </tr>\n",
       "    <tr>\n",
       "      <td>8</td>\n",
       "      <td>36</td>\n",
       "      <td>(20, 40]</td>\n",
       "    </tr>\n",
       "    <tr>\n",
       "      <td>9</td>\n",
       "      <td>2</td>\n",
       "      <td>(1, 20]</td>\n",
       "    </tr>\n",
       "  </tbody>\n",
       "</table>\n",
       "</div>"
      ],
      "text/plain": [
       "   number  cut_group\n",
       "0      35   (20, 40]\n",
       "1      27   (20, 40]\n",
       "2       3    (1, 20]\n",
       "3      30   (20, 40]\n",
       "4      30   (20, 40]\n",
       "5      81  (80, 100]\n",
       "6      91  (80, 100]\n",
       "7      25   (20, 40]\n",
       "8      36   (20, 40]\n",
       "9       2    (1, 20]"
      ]
     },
     "execution_count": 3,
     "metadata": {},
     "output_type": "execute_result"
    }
   ],
   "source": [
    "df['cut_group'] = pd.cut(df['number'], bins=[1, 20, 40, 60, 80, 100]) \n",
    "df"
   ]
  },
  {
   "cell_type": "code",
   "execution_count": 4,
   "metadata": {},
   "outputs": [
    {
     "data": {
      "text/plain": [
       "[(20, 40], (1, 20], (80, 100]]\n",
       "Categories (3, interval[int64]): [(1, 20] < (20, 40] < (80, 100]]"
      ]
     },
     "execution_count": 4,
     "metadata": {},
     "output_type": "execute_result"
    }
   ],
   "source": [
    "df['cut_group'].unique()"
   ]
  },
  {
   "cell_type": "code",
   "execution_count": 5,
   "metadata": {},
   "outputs": [
    {
     "data": {
      "text/plain": [
       "(20, 40]     6\n",
       "(80, 100]    2\n",
       "(1, 20]      2\n",
       "(60, 80]     0\n",
       "(40, 60]     0\n",
       "Name: cut_group, dtype: int64"
      ]
     },
     "execution_count": 5,
     "metadata": {},
     "output_type": "execute_result"
    }
   ],
   "source": [
    "df['cut_group'].value_counts()"
   ]
  },
  {
   "cell_type": "markdown",
   "metadata": {},
   "source": [
    "***Example 2.***<br>\n",
    "- Add the label"
   ]
  },
  {
   "cell_type": "code",
   "execution_count": 6,
   "metadata": {
    "scrolled": true
   },
   "outputs": [
    {
     "data": {
      "text/html": [
       "<div>\n",
       "<style scoped>\n",
       "    .dataframe tbody tr th:only-of-type {\n",
       "        vertical-align: middle;\n",
       "    }\n",
       "\n",
       "    .dataframe tbody tr th {\n",
       "        vertical-align: top;\n",
       "    }\n",
       "\n",
       "    .dataframe thead th {\n",
       "        text-align: right;\n",
       "    }\n",
       "</style>\n",
       "<table border=\"1\" class=\"dataframe\">\n",
       "  <thead>\n",
       "    <tr style=\"text-align: right;\">\n",
       "      <th></th>\n",
       "      <th>number</th>\n",
       "      <th>cut_group</th>\n",
       "      <th>cut_group_with_label</th>\n",
       "    </tr>\n",
       "  </thead>\n",
       "  <tbody>\n",
       "    <tr>\n",
       "      <td>0</td>\n",
       "      <td>35</td>\n",
       "      <td>(20, 40]</td>\n",
       "      <td>21 to 40</td>\n",
       "    </tr>\n",
       "    <tr>\n",
       "      <td>1</td>\n",
       "      <td>27</td>\n",
       "      <td>(20, 40]</td>\n",
       "      <td>21 to 40</td>\n",
       "    </tr>\n",
       "    <tr>\n",
       "      <td>2</td>\n",
       "      <td>3</td>\n",
       "      <td>(1, 20]</td>\n",
       "      <td>1 to 20</td>\n",
       "    </tr>\n",
       "    <tr>\n",
       "      <td>3</td>\n",
       "      <td>30</td>\n",
       "      <td>(20, 40]</td>\n",
       "      <td>21 to 40</td>\n",
       "    </tr>\n",
       "    <tr>\n",
       "      <td>4</td>\n",
       "      <td>30</td>\n",
       "      <td>(20, 40]</td>\n",
       "      <td>21 to 40</td>\n",
       "    </tr>\n",
       "    <tr>\n",
       "      <td>5</td>\n",
       "      <td>81</td>\n",
       "      <td>(80, 100]</td>\n",
       "      <td>81 to 100</td>\n",
       "    </tr>\n",
       "    <tr>\n",
       "      <td>6</td>\n",
       "      <td>91</td>\n",
       "      <td>(80, 100]</td>\n",
       "      <td>81 to 100</td>\n",
       "    </tr>\n",
       "    <tr>\n",
       "      <td>7</td>\n",
       "      <td>25</td>\n",
       "      <td>(20, 40]</td>\n",
       "      <td>21 to 40</td>\n",
       "    </tr>\n",
       "    <tr>\n",
       "      <td>8</td>\n",
       "      <td>36</td>\n",
       "      <td>(20, 40]</td>\n",
       "      <td>21 to 40</td>\n",
       "    </tr>\n",
       "    <tr>\n",
       "      <td>9</td>\n",
       "      <td>2</td>\n",
       "      <td>(1, 20]</td>\n",
       "      <td>1 to 20</td>\n",
       "    </tr>\n",
       "  </tbody>\n",
       "</table>\n",
       "</div>"
      ],
      "text/plain": [
       "   number  cut_group cut_group_with_label\n",
       "0      35   (20, 40]             21 to 40\n",
       "1      27   (20, 40]             21 to 40\n",
       "2       3    (1, 20]              1 to 20\n",
       "3      30   (20, 40]             21 to 40\n",
       "4      30   (20, 40]             21 to 40\n",
       "5      81  (80, 100]            81 to 100\n",
       "6      91  (80, 100]            81 to 100\n",
       "7      25   (20, 40]             21 to 40\n",
       "8      36   (20, 40]             21 to 40\n",
       "9       2    (1, 20]              1 to 20"
      ]
     },
     "execution_count": 6,
     "metadata": {},
     "output_type": "execute_result"
    }
   ],
   "source": [
    "df['cut_group_with_label'] = pd.cut(x = df['number'], bins = [1, 20, 40, 60, 80, 100]\n",
    "                    ,labels = ['1 to 20', '21 to 40', '41 to 60', '61 to 80', '81 to 100'])\n",
    "df"
   ]
  },
  {
   "cell_type": "markdown",
   "metadata": {},
   "source": [
    "***Example 2.***<br>\n",
    "- automated bins (each bin's range are basically the `same`.)"
   ]
  },
  {
   "cell_type": "code",
   "execution_count": 7,
   "metadata": {},
   "outputs": [
    {
     "data": {
      "text/html": [
       "<div>\n",
       "<style scoped>\n",
       "    .dataframe tbody tr th:only-of-type {\n",
       "        vertical-align: middle;\n",
       "    }\n",
       "\n",
       "    .dataframe tbody tr th {\n",
       "        vertical-align: top;\n",
       "    }\n",
       "\n",
       "    .dataframe thead th {\n",
       "        text-align: right;\n",
       "    }\n",
       "</style>\n",
       "<table border=\"1\" class=\"dataframe\">\n",
       "  <thead>\n",
       "    <tr style=\"text-align: right;\">\n",
       "      <th></th>\n",
       "      <th>number</th>\n",
       "      <th>cut_group</th>\n",
       "      <th>cut_group_with_label</th>\n",
       "      <th>cut_group_auto_bin</th>\n",
       "    </tr>\n",
       "  </thead>\n",
       "  <tbody>\n",
       "    <tr>\n",
       "      <td>0</td>\n",
       "      <td>35</td>\n",
       "      <td>(20, 40]</td>\n",
       "      <td>21 to 40</td>\n",
       "      <td>(24.25, 46.5]</td>\n",
       "    </tr>\n",
       "    <tr>\n",
       "      <td>1</td>\n",
       "      <td>27</td>\n",
       "      <td>(20, 40]</td>\n",
       "      <td>21 to 40</td>\n",
       "      <td>(24.25, 46.5]</td>\n",
       "    </tr>\n",
       "    <tr>\n",
       "      <td>2</td>\n",
       "      <td>3</td>\n",
       "      <td>(1, 20]</td>\n",
       "      <td>1 to 20</td>\n",
       "      <td>(1.911, 24.25]</td>\n",
       "    </tr>\n",
       "    <tr>\n",
       "      <td>3</td>\n",
       "      <td>30</td>\n",
       "      <td>(20, 40]</td>\n",
       "      <td>21 to 40</td>\n",
       "      <td>(24.25, 46.5]</td>\n",
       "    </tr>\n",
       "    <tr>\n",
       "      <td>4</td>\n",
       "      <td>30</td>\n",
       "      <td>(20, 40]</td>\n",
       "      <td>21 to 40</td>\n",
       "      <td>(24.25, 46.5]</td>\n",
       "    </tr>\n",
       "    <tr>\n",
       "      <td>5</td>\n",
       "      <td>81</td>\n",
       "      <td>(80, 100]</td>\n",
       "      <td>81 to 100</td>\n",
       "      <td>(68.75, 91.0]</td>\n",
       "    </tr>\n",
       "    <tr>\n",
       "      <td>6</td>\n",
       "      <td>91</td>\n",
       "      <td>(80, 100]</td>\n",
       "      <td>81 to 100</td>\n",
       "      <td>(68.75, 91.0]</td>\n",
       "    </tr>\n",
       "    <tr>\n",
       "      <td>7</td>\n",
       "      <td>25</td>\n",
       "      <td>(20, 40]</td>\n",
       "      <td>21 to 40</td>\n",
       "      <td>(24.25, 46.5]</td>\n",
       "    </tr>\n",
       "    <tr>\n",
       "      <td>8</td>\n",
       "      <td>36</td>\n",
       "      <td>(20, 40]</td>\n",
       "      <td>21 to 40</td>\n",
       "      <td>(24.25, 46.5]</td>\n",
       "    </tr>\n",
       "    <tr>\n",
       "      <td>9</td>\n",
       "      <td>2</td>\n",
       "      <td>(1, 20]</td>\n",
       "      <td>1 to 20</td>\n",
       "      <td>(1.911, 24.25]</td>\n",
       "    </tr>\n",
       "  </tbody>\n",
       "</table>\n",
       "</div>"
      ],
      "text/plain": [
       "   number  cut_group cut_group_with_label cut_group_auto_bin\n",
       "0      35   (20, 40]             21 to 40      (24.25, 46.5]\n",
       "1      27   (20, 40]             21 to 40      (24.25, 46.5]\n",
       "2       3    (1, 20]              1 to 20     (1.911, 24.25]\n",
       "3      30   (20, 40]             21 to 40      (24.25, 46.5]\n",
       "4      30   (20, 40]             21 to 40      (24.25, 46.5]\n",
       "5      81  (80, 100]            81 to 100      (68.75, 91.0]\n",
       "6      91  (80, 100]            81 to 100      (68.75, 91.0]\n",
       "7      25   (20, 40]             21 to 40      (24.25, 46.5]\n",
       "8      36   (20, 40]             21 to 40      (24.25, 46.5]\n",
       "9       2    (1, 20]              1 to 20     (1.911, 24.25]"
      ]
     },
     "execution_count": 7,
     "metadata": {},
     "output_type": "execute_result"
    }
   ],
   "source": [
    "df['cut_group_auto_bin'] = pd.cut(df['number'], 4) \n",
    "df"
   ]
  },
  {
   "cell_type": "code",
   "execution_count": 8,
   "metadata": {},
   "outputs": [
    {
     "data": {
      "text/plain": [
       "(24.25, 46.5]     6\n",
       "(68.75, 91.0]     2\n",
       "(1.911, 24.25]    2\n",
       "(46.5, 68.75]     0\n",
       "Name: cut_group_auto_bin, dtype: int64"
      ]
     },
     "execution_count": 8,
     "metadata": {},
     "output_type": "execute_result"
    }
   ],
   "source": [
    "df['cut_group_auto_bin'].value_counts()"
   ]
  },
  {
   "cell_type": "markdown",
   "metadata": {},
   "source": [
    "---"
   ]
  },
  {
   "cell_type": "markdown",
   "metadata": {},
   "source": [
    "## `pd.qcut()`"
   ]
  },
  {
   "cell_type": "code",
   "execution_count": 9,
   "metadata": {},
   "outputs": [
    {
     "data": {
      "text/html": [
       "<div>\n",
       "<style scoped>\n",
       "    .dataframe tbody tr th:only-of-type {\n",
       "        vertical-align: middle;\n",
       "    }\n",
       "\n",
       "    .dataframe tbody tr th {\n",
       "        vertical-align: top;\n",
       "    }\n",
       "\n",
       "    .dataframe thead th {\n",
       "        text-align: right;\n",
       "    }\n",
       "</style>\n",
       "<table border=\"1\" class=\"dataframe\">\n",
       "  <thead>\n",
       "    <tr style=\"text-align: right;\">\n",
       "      <th></th>\n",
       "      <th>number</th>\n",
       "      <th>cut_group</th>\n",
       "      <th>cut_group_with_label</th>\n",
       "      <th>cut_group_auto_bin</th>\n",
       "      <th>qcut_group</th>\n",
       "    </tr>\n",
       "  </thead>\n",
       "  <tbody>\n",
       "    <tr>\n",
       "      <td>0</td>\n",
       "      <td>35</td>\n",
       "      <td>(20, 40]</td>\n",
       "      <td>21 to 40</td>\n",
       "      <td>(24.25, 46.5]</td>\n",
       "      <td>(30.0, 35.75]</td>\n",
       "    </tr>\n",
       "    <tr>\n",
       "      <td>1</td>\n",
       "      <td>27</td>\n",
       "      <td>(20, 40]</td>\n",
       "      <td>21 to 40</td>\n",
       "      <td>(24.25, 46.5]</td>\n",
       "      <td>(25.5, 30.0]</td>\n",
       "    </tr>\n",
       "    <tr>\n",
       "      <td>2</td>\n",
       "      <td>3</td>\n",
       "      <td>(1, 20]</td>\n",
       "      <td>1 to 20</td>\n",
       "      <td>(1.911, 24.25]</td>\n",
       "      <td>(1.999, 25.5]</td>\n",
       "    </tr>\n",
       "    <tr>\n",
       "      <td>3</td>\n",
       "      <td>30</td>\n",
       "      <td>(20, 40]</td>\n",
       "      <td>21 to 40</td>\n",
       "      <td>(24.25, 46.5]</td>\n",
       "      <td>(25.5, 30.0]</td>\n",
       "    </tr>\n",
       "    <tr>\n",
       "      <td>4</td>\n",
       "      <td>30</td>\n",
       "      <td>(20, 40]</td>\n",
       "      <td>21 to 40</td>\n",
       "      <td>(24.25, 46.5]</td>\n",
       "      <td>(25.5, 30.0]</td>\n",
       "    </tr>\n",
       "    <tr>\n",
       "      <td>5</td>\n",
       "      <td>81</td>\n",
       "      <td>(80, 100]</td>\n",
       "      <td>81 to 100</td>\n",
       "      <td>(68.75, 91.0]</td>\n",
       "      <td>(35.75, 91.0]</td>\n",
       "    </tr>\n",
       "    <tr>\n",
       "      <td>6</td>\n",
       "      <td>91</td>\n",
       "      <td>(80, 100]</td>\n",
       "      <td>81 to 100</td>\n",
       "      <td>(68.75, 91.0]</td>\n",
       "      <td>(35.75, 91.0]</td>\n",
       "    </tr>\n",
       "    <tr>\n",
       "      <td>7</td>\n",
       "      <td>25</td>\n",
       "      <td>(20, 40]</td>\n",
       "      <td>21 to 40</td>\n",
       "      <td>(24.25, 46.5]</td>\n",
       "      <td>(1.999, 25.5]</td>\n",
       "    </tr>\n",
       "    <tr>\n",
       "      <td>8</td>\n",
       "      <td>36</td>\n",
       "      <td>(20, 40]</td>\n",
       "      <td>21 to 40</td>\n",
       "      <td>(24.25, 46.5]</td>\n",
       "      <td>(35.75, 91.0]</td>\n",
       "    </tr>\n",
       "    <tr>\n",
       "      <td>9</td>\n",
       "      <td>2</td>\n",
       "      <td>(1, 20]</td>\n",
       "      <td>1 to 20</td>\n",
       "      <td>(1.911, 24.25]</td>\n",
       "      <td>(1.999, 25.5]</td>\n",
       "    </tr>\n",
       "  </tbody>\n",
       "</table>\n",
       "</div>"
      ],
      "text/plain": [
       "   number  cut_group cut_group_with_label cut_group_auto_bin     qcut_group\n",
       "0      35   (20, 40]             21 to 40      (24.25, 46.5]  (30.0, 35.75]\n",
       "1      27   (20, 40]             21 to 40      (24.25, 46.5]   (25.5, 30.0]\n",
       "2       3    (1, 20]              1 to 20     (1.911, 24.25]  (1.999, 25.5]\n",
       "3      30   (20, 40]             21 to 40      (24.25, 46.5]   (25.5, 30.0]\n",
       "4      30   (20, 40]             21 to 40      (24.25, 46.5]   (25.5, 30.0]\n",
       "5      81  (80, 100]            81 to 100      (68.75, 91.0]  (35.75, 91.0]\n",
       "6      91  (80, 100]            81 to 100      (68.75, 91.0]  (35.75, 91.0]\n",
       "7      25   (20, 40]             21 to 40      (24.25, 46.5]  (1.999, 25.5]\n",
       "8      36   (20, 40]             21 to 40      (24.25, 46.5]  (35.75, 91.0]\n",
       "9       2    (1, 20]              1 to 20     (1.911, 24.25]  (1.999, 25.5]"
      ]
     },
     "execution_count": 9,
     "metadata": {},
     "output_type": "execute_result"
    }
   ],
   "source": [
    "df['qcut_group'] = pd.qcut(df['number'], 4)\n",
    "df"
   ]
  },
  {
   "cell_type": "code",
   "execution_count": 10,
   "metadata": {},
   "outputs": [
    {
     "data": {
      "text/plain": [
       "(35.75, 91.0]    3\n",
       "(25.5, 30.0]     3\n",
       "(1.999, 25.5]    3\n",
       "(30.0, 35.75]    1\n",
       "Name: qcut_group, dtype: int64"
      ]
     },
     "execution_count": 10,
     "metadata": {},
     "output_type": "execute_result"
    }
   ],
   "source": [
    "df['qcut_group'].value_counts()"
   ]
  },
  {
   "cell_type": "code",
   "execution_count": null,
   "metadata": {},
   "outputs": [],
   "source": []
  }
 ],
 "metadata": {
  "kernelspec": {
   "display_name": "Python 3",
   "language": "python",
   "name": "python3"
  },
  "language_info": {
   "codemirror_mode": {
    "name": "ipython",
    "version": 3
   },
   "file_extension": ".py",
   "mimetype": "text/x-python",
   "name": "python",
   "nbconvert_exporter": "python",
   "pygments_lexer": "ipython3",
   "version": "3.7.4"
  }
 },
 "nbformat": 4,
 "nbformat_minor": 2
}
