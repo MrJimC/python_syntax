{
 "cells": [
  {
   "cell_type": "markdown",
   "metadata": {},
   "source": [
    "## datetime有四个主要的模块：\n",
    "\n",
    "1. date 处理年、月、日。\n",
    "2. time 处理时、分、秒和分数。\n",
    "3. datetime 处理日期和时间同时出现的情况。\n",
    "4. timedelta 处理日期和/ 或时间间隔。"
   ]
  },
  {
   "cell_type": "markdown",
   "metadata": {},
   "source": [
    "---"
   ]
  },
  {
   "cell_type": "markdown",
   "metadata": {},
   "source": [
    "## 1. datetime 获取当前的本地日期和UTC日期："
   ]
  },
  {
   "cell_type": "code",
   "execution_count": 1,
   "metadata": {},
   "outputs": [
    {
     "name": "stdout",
     "output_type": "stream",
     "text": [
      "1、UTC时间为：2022-03-24 09:32:48.184957\n",
      "1、本地时间为：2022-03-24 17:32:48.185828\n"
     ]
    }
   ],
   "source": [
    "# 从 datetime 中导入 datetime 模块。\n",
    "from datetime import datetime\n",
    " \n",
    " \n",
    "utc_time = datetime.utcnow()    # utcnow()获取世界标准时间。\n",
    "print(f'1、UTC时间为：{utc_time}')\n",
    " \n",
    "local_time = datetime.now()     # now() 获取本地时间。\n",
    "print(f'1、本地时间为：{local_time}')\n"
   ]
  },
  {
   "cell_type": "markdown",
   "metadata": {},
   "source": [
    "## 2. 定義時區對象\n",
    "`timedelta([days[, seconds[, microseconds[, milliseconds[, minutes[, hours[, weeks]]]]]]])`<br>\n",
    "从构造函数的定义中可以看出，所有参数都是可选的，并且默认都是0。"
   ]
  },
  {
   "cell_type": "code",
   "execution_count": 2,
   "metadata": {},
   "outputs": [
    {
     "name": "stdout",
     "output_type": "stream",
     "text": [
      "1、北京时区为：UTC+08:00\n",
      "2、东京时区为：UTC+09:00\n",
      "3、纽约时区为：UTC-04:00\n",
      "4、世界标准时区为：UTC\n"
     ]
    }
   ],
   "source": [
    "from datetime import timezone, timedelta\n",
    " \n",
    "beijing = timezone(timedelta(hours=8))\n",
    "print(f'1、北京时区为：{beijing}')\n",
    " \n",
    "Tokyo = timezone(timedelta(hours=9))\n",
    "print(f'2、东京时区为：{Tokyo}')\n",
    " \n",
    "New_York = timezone(timedelta(hours=-4))\n",
    "print(f'3、纽约时区为：{New_York}')\n",
    " \n",
    "utc = timezone.utc\n",
    "print(f'4、世界标准时区为：{utc}')"
   ]
  },
  {
   "cell_type": "markdown",
   "metadata": {},
   "source": [
    "## 3. 现在在 UTC 的时间基础上，用 astimezone() 修改时区："
   ]
  },
  {
   "cell_type": "markdown",
   "metadata": {},
   "source": [
    "### 注意：須要確認待調整時間是否帶有時區\n",
    "- 若utc_time時區屬性為None，模塊會把utc_time的時區默認為本地時區，而後才會進行時區調整，導致調整結果不如預期。<br>\n",
    "- 可使用 `replace(tzinfo=時區對象)` 強制更改時區屬性"
   ]
  },
  {
   "cell_type": "code",
   "execution_count": 3,
   "metadata": {},
   "outputs": [
    {
     "name": "stdout",
     "output_type": "stream",
     "text": [
      "None\n"
     ]
    }
   ],
   "source": [
    "print(utc_time.tzinfo)"
   ]
  },
  {
   "cell_type": "code",
   "execution_count": 4,
   "metadata": {},
   "outputs": [],
   "source": [
    "utc = timezone.utc\n",
    "utc_time = datetime.utcnow().replace(tzinfo=utc)"
   ]
  },
  {
   "cell_type": "code",
   "execution_count": 7,
   "metadata": {},
   "outputs": [
    {
     "name": "stdout",
     "output_type": "stream",
     "text": [
      "強制更改後結果: UTC\n"
     ]
    }
   ],
   "source": [
    "print('強制更改後結果:',utc_time.tzinfo)"
   ]
  },
  {
   "cell_type": "code",
   "execution_count": 9,
   "metadata": {},
   "outputs": [
    {
     "name": "stdout",
     "output_type": "stream",
     "text": [
      "2、更改时区为北京后的时间： 2022-03-24 17:43:23.419658+08:00\n",
      "3、获取时区信息： UTC+08:00\n",
      "4、更改时区为东京后的时间： 2022-03-24 18:43:23.419658+09:00\n",
      "5、获取时区信息： UTC+09:00\n",
      "6、更改时区为纽约后的时间： 2022-03-24 05:43:23.419658-04:00\n",
      "7、获取时区信息： UTC-04:00\n"
     ]
    }
   ],
   "source": [
    "time_beijing = utc_time.astimezone(beijing)\n",
    "time_newyork = utc_time.astimezone(New_York)\n",
    "time_tokyo = utc_time.astimezone(Tokyo)\n",
    "\n",
    "print('2、更改时区为北京后的时间：', time_beijing)\n",
    "print('3、获取时区信息：', time_beijing.tzinfo)\n",
    "print('4、更改时区为东京后的时间：', time_tokyo)\n",
    "print('5、获取时区信息：', time_tokyo.tzinfo)\n",
    "print('6、更改时区为纽约后的时间：', time_newyork)\n",
    "print('7、获取时区信息：', time_newyork.tzinfo)"
   ]
  },
  {
   "cell_type": "code",
   "execution_count": null,
   "metadata": {},
   "outputs": [],
   "source": []
  }
 ],
 "metadata": {
  "kernelspec": {
   "display_name": "Python 3",
   "language": "python",
   "name": "python3"
  },
  "language_info": {
   "codemirror_mode": {
    "name": "ipython",
    "version": 3
   },
   "file_extension": ".py",
   "mimetype": "text/x-python",
   "name": "python",
   "nbconvert_exporter": "python",
   "pygments_lexer": "ipython3",
   "version": "3.7.4"
  }
 },
 "nbformat": 4,
 "nbformat_minor": 2
}
