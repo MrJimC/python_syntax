{
 "cells": [
  {
   "cell_type": "markdown",
   "metadata": {},
   "source": [
    "## Notes before use `merge( )`\n",
    "1. `inner join` as default setting.\n",
    "2. Can use `index` or columns' `value` to connect two DataFrame."
   ]
  },
  {
   "cell_type": "markdown",
   "metadata": {},
   "source": [
    "`merge(left, right, how='inner', on=None, left_on=None, right_on=None, left_index=False, right_index=False, sort=False, suffixes=('_x', '_y'), copy=True, indicator=False, validate=None)`\n",
    "\n",
    "**how後為連接方式，類似SQL的join方式**<br>\n",
    "1) inner（交集）為默認選項<br>\n",
    "2) outer（並集）<br>\n",
    "3) left / right / ..."
   ]
  },
  {
   "cell_type": "code",
   "execution_count": 19,
   "metadata": {},
   "outputs": [],
   "source": [
    "import pandas as pd\n",
    "import numpy as np"
   ]
  },
  {
   "cell_type": "code",
   "execution_count": 12,
   "metadata": {},
   "outputs": [
    {
     "name": "stdout",
     "output_type": "stream",
     "text": [
      "df1----------------------\n",
      "   name               email  grades\n",
      "0   Ann       min@gmail.com      60\n",
      "1   Tim    hchang@gmail.com      77\n",
      "2   Joe  laioding@gmail.com      92\n",
      "3  John  hsulight@gmail.com      43\n",
      "df2----------------------\n",
      "     name         email  grades\n",
      "0    Tony  ww@gmail.com      70\n",
      "1  Johnny  cc@gmail.com      17\n",
      "2   Louis  bb@gmail.com      32\n",
      "3   Timmy  ee@gmail.com      43\n",
      "df3----------------------\n",
      "     name         email  gender\n",
      "0    Tony          xxxx    male\n",
      "1  Johnny          xxxx    male\n",
      "2   Louis  bb@gmail.com    male\n",
      "3   Timmy  ee@gmail.com  female\n",
      "df4----------------------\n",
      "     col1    col2\n",
      "0    Tony    male\n",
      "1  Johnny    male\n",
      "2   Louis    male\n",
      "3   Timmy  female\n",
      "df5----------------------\n",
      "      aaa           bbb     ccc\n",
      "0    Tony          xxxx    male\n",
      "1  Johnny          xxxx    male\n",
      "2   Louis  bb@gmail.com    male\n",
      "3   Timmy  ee@gmail.com  female\n"
     ]
    }
   ],
   "source": [
    "data_1 = {\n",
    "    'name': ['Ann', 'Tim', 'Joe', 'John'],\n",
    "    'email': ['min@gmail.com', 'hchang@gmail.com', 'laioding@gmail.com', 'hsulight@gmail.com'],\n",
    "    'grades': [60, 77, 92, 43]\n",
    "}\n",
    "\n",
    "data_2 = {\n",
    "    'name': ['Tony', 'Johnny', 'Louis', 'Timmy'],\n",
    "    'email': ['ww@gmail.com', 'cc@gmail.com', 'bb@gmail.com', 'ee@gmail.com'],\n",
    "    'grades': [70, 17, 32, 43]\n",
    "}\n",
    "\n",
    "data_3 = {\n",
    "    'name': ['Tony', 'Johnny', 'Louis', 'Timmy'],\n",
    "    'email': ['xxxx', 'xxxx', 'bb@gmail.com', 'ee@gmail.com'],\n",
    "    'gender': ['male', 'male', 'male', 'female']\n",
    "}\n",
    "\n",
    "data_4 = {\n",
    "    'col1': ['Tony', 'Johnny', 'Louis', 'Timmy'],\n",
    "    'col2': ['male', 'male', 'male', 'female']\n",
    "}\n",
    "\n",
    "data_5 = {\n",
    "    'aaa': ['Tony', 'Johnny', 'Louis', 'Timmy'],\n",
    "    'bbb': ['xxxx', 'xxxx', 'bb@gmail.com', 'ee@gmail.com'],\n",
    "    'ccc': ['male', 'male', 'male', 'female']\n",
    "}\n",
    "\n",
    "df1 = pd.DataFrame(data_1)\n",
    "df2 = pd.DataFrame(data_2)\n",
    "df3 = pd.DataFrame(data_3)\n",
    "df4 = pd.DataFrame(data_4)\n",
    "df5 = pd.DataFrame(data_5)\n",
    "\n",
    "print('df1----------------------')\n",
    "print(df1)\n",
    "print('df2----------------------')\n",
    "print(df2)\n",
    "print('df3----------------------')\n",
    "print(df3)\n",
    "print('df4----------------------')\n",
    "print(df4)\n",
    "print('df5----------------------')\n",
    "print(df5)"
   ]
  },
  {
   "cell_type": "markdown",
   "metadata": {},
   "source": [
    "## Couple scenario when using  `merge( )`"
   ]
  },
  {
   "cell_type": "markdown",
   "metadata": {},
   "source": [
    "**Scenario 1.** 兩個 DataFrame 有多個相同欄位名 \n",
    "- 在不設定具體key的情況下，默認會自動進行所有欄位的匹配；\n",
    "- 能夠通過設定key來選定匹配的值 (key能夠傳入list以選定多個)；"
   ]
  },
  {
   "cell_type": "code",
   "execution_count": 7,
   "metadata": {},
   "outputs": [
    {
     "data": {
      "text/html": [
       "<div>\n",
       "<style scoped>\n",
       "    .dataframe tbody tr th:only-of-type {\n",
       "        vertical-align: middle;\n",
       "    }\n",
       "\n",
       "    .dataframe tbody tr th {\n",
       "        vertical-align: top;\n",
       "    }\n",
       "\n",
       "    .dataframe thead th {\n",
       "        text-align: right;\n",
       "    }\n",
       "</style>\n",
       "<table border=\"1\" class=\"dataframe\">\n",
       "  <thead>\n",
       "    <tr style=\"text-align: right;\">\n",
       "      <th></th>\n",
       "      <th>name</th>\n",
       "      <th>email</th>\n",
       "      <th>grades</th>\n",
       "      <th>gender</th>\n",
       "    </tr>\n",
       "  </thead>\n",
       "  <tbody>\n",
       "    <tr>\n",
       "      <td>0</td>\n",
       "      <td>Louis</td>\n",
       "      <td>bb@gmail.com</td>\n",
       "      <td>32</td>\n",
       "      <td>male</td>\n",
       "    </tr>\n",
       "    <tr>\n",
       "      <td>1</td>\n",
       "      <td>Timmy</td>\n",
       "      <td>ee@gmail.com</td>\n",
       "      <td>43</td>\n",
       "      <td>female</td>\n",
       "    </tr>\n",
       "  </tbody>\n",
       "</table>\n",
       "</div>"
      ],
      "text/plain": [
       "    name         email  grades  gender\n",
       "0  Louis  bb@gmail.com      32    male\n",
       "1  Timmy  ee@gmail.com      43  female"
      ]
     },
     "execution_count": 7,
     "metadata": {},
     "output_type": "execute_result"
    }
   ],
   "source": [
    "df_merge = pd.merge(df2,df3)\n",
    "df_merge"
   ]
  },
  {
   "cell_type": "code",
   "execution_count": 9,
   "metadata": {},
   "outputs": [
    {
     "data": {
      "text/html": [
       "<div>\n",
       "<style scoped>\n",
       "    .dataframe tbody tr th:only-of-type {\n",
       "        vertical-align: middle;\n",
       "    }\n",
       "\n",
       "    .dataframe tbody tr th {\n",
       "        vertical-align: top;\n",
       "    }\n",
       "\n",
       "    .dataframe thead th {\n",
       "        text-align: right;\n",
       "    }\n",
       "</style>\n",
       "<table border=\"1\" class=\"dataframe\">\n",
       "  <thead>\n",
       "    <tr style=\"text-align: right;\">\n",
       "      <th></th>\n",
       "      <th>name</th>\n",
       "      <th>email_x</th>\n",
       "      <th>grades</th>\n",
       "      <th>email_y</th>\n",
       "      <th>gender</th>\n",
       "    </tr>\n",
       "  </thead>\n",
       "  <tbody>\n",
       "    <tr>\n",
       "      <td>0</td>\n",
       "      <td>Tony</td>\n",
       "      <td>ww@gmail.com</td>\n",
       "      <td>70</td>\n",
       "      <td>xxxx</td>\n",
       "      <td>male</td>\n",
       "    </tr>\n",
       "    <tr>\n",
       "      <td>1</td>\n",
       "      <td>Johnny</td>\n",
       "      <td>cc@gmail.com</td>\n",
       "      <td>17</td>\n",
       "      <td>xxxx</td>\n",
       "      <td>male</td>\n",
       "    </tr>\n",
       "    <tr>\n",
       "      <td>2</td>\n",
       "      <td>Louis</td>\n",
       "      <td>bb@gmail.com</td>\n",
       "      <td>32</td>\n",
       "      <td>bb@gmail.com</td>\n",
       "      <td>male</td>\n",
       "    </tr>\n",
       "    <tr>\n",
       "      <td>3</td>\n",
       "      <td>Timmy</td>\n",
       "      <td>ee@gmail.com</td>\n",
       "      <td>43</td>\n",
       "      <td>ee@gmail.com</td>\n",
       "      <td>female</td>\n",
       "    </tr>\n",
       "  </tbody>\n",
       "</table>\n",
       "</div>"
      ],
      "text/plain": [
       "     name       email_x  grades       email_y  gender\n",
       "0    Tony  ww@gmail.com      70          xxxx    male\n",
       "1  Johnny  cc@gmail.com      17          xxxx    male\n",
       "2   Louis  bb@gmail.com      32  bb@gmail.com    male\n",
       "3   Timmy  ee@gmail.com      43  ee@gmail.com  female"
      ]
     },
     "execution_count": 9,
     "metadata": {},
     "output_type": "execute_result"
    }
   ],
   "source": [
    "## 通過設定key來選定匹配的值 \n",
    "\n",
    "df_merge_1 = pd.merge(df2,df3,left_on='name',right_on='name')\n",
    "df_merge_1"
   ]
  },
  {
   "cell_type": "code",
   "execution_count": 26,
   "metadata": {},
   "outputs": [
    {
     "name": "stdout",
     "output_type": "stream",
     "text": [
      "希望指定多欄位時\n",
      "    name         email  grades  gender\n",
      "0  Louis  bb@gmail.com      32    male\n",
      "1  Timmy  ee@gmail.com      43  female\n",
      "\n",
      "---------------------------------\n",
      "\n",
      "希望指定多欄位，且欄位名不同時也能使用\n",
      "    name         email  grades    aaa           bbb     ccc\n",
      "0  Louis  bb@gmail.com      32  Louis  bb@gmail.com    male\n",
      "1  Timmy  ee@gmail.com      43  Timmy  ee@gmail.com  female\n"
     ]
    }
   ],
   "source": [
    "## key能夠傳入list以選定多個\n",
    "\n",
    "df_merge_2 = pd.merge(df2,df3,left_on=['name','email'],right_on=['name','email'])\n",
    "print('希望指定多欄位時')\n",
    "print(df_merge_2)\n",
    "print()\n",
    "print('---------------------------------')\n",
    "print()\n",
    "df_merge_3 = pd.merge(df2,df5,left_on=['name','email'],right_on=['aaa','bbb'])\n",
    "print('希望指定多欄位，且欄位名不同時也能使用')\n",
    "print(df_merge_3)"
   ]
  },
  {
   "cell_type": "markdown",
   "metadata": {},
   "source": [
    "---"
   ]
  },
  {
   "cell_type": "markdown",
   "metadata": {},
   "source": [
    "**Scenario 2.** "
   ]
  },
  {
   "cell_type": "code",
   "execution_count": 27,
   "metadata": {},
   "outputs": [
    {
     "name": "stdout",
     "output_type": "stream",
     "text": [
      "df_idx_1\n",
      "   v1  v2  v3  v4\n",
      "a   0   1   2   3\n",
      "b   4   5   6   7\n",
      "c   8   9  10  11\n",
      "\n",
      "---------------------------------\n",
      "\n",
      "df_idx_2\n",
      "   v5  v6  v7  v8\n",
      "a  12  13  14  15\n",
      "b  16  17  18  19\n",
      "d  20  21  22  23\n"
     ]
    }
   ],
   "source": [
    "df_idx_1 = pd.DataFrame(np.arange(12).reshape(3,4),index=list('abc'),columns=['v1','v2','v3','v4'])\n",
    "df_idx_2 = pd.DataFrame(np.arange(12,24,1).reshape(3,4),index=list('abd'),columns=['v5','v6','v7','v8'])\n",
    "\n",
    "print('df_idx_1')\n",
    "print(df_idx_1)\n",
    "print()\n",
    "print('---------------------------------')\n",
    "print()\n",
    "print('df_idx_2')\n",
    "print(df_idx_2)"
   ]
  },
  {
   "cell_type": "code",
   "execution_count": 25,
   "metadata": {},
   "outputs": [
    {
     "data": {
      "text/html": [
       "<div>\n",
       "<style scoped>\n",
       "    .dataframe tbody tr th:only-of-type {\n",
       "        vertical-align: middle;\n",
       "    }\n",
       "\n",
       "    .dataframe tbody tr th {\n",
       "        vertical-align: top;\n",
       "    }\n",
       "\n",
       "    .dataframe thead th {\n",
       "        text-align: right;\n",
       "    }\n",
       "</style>\n",
       "<table border=\"1\" class=\"dataframe\">\n",
       "  <thead>\n",
       "    <tr style=\"text-align: right;\">\n",
       "      <th></th>\n",
       "      <th>v1</th>\n",
       "      <th>v2</th>\n",
       "      <th>v3</th>\n",
       "      <th>v4</th>\n",
       "      <th>v5</th>\n",
       "      <th>v6</th>\n",
       "      <th>v7</th>\n",
       "      <th>v8</th>\n",
       "    </tr>\n",
       "  </thead>\n",
       "  <tbody>\n",
       "    <tr>\n",
       "      <td>a</td>\n",
       "      <td>0</td>\n",
       "      <td>1</td>\n",
       "      <td>2</td>\n",
       "      <td>3</td>\n",
       "      <td>12</td>\n",
       "      <td>13</td>\n",
       "      <td>14</td>\n",
       "      <td>15</td>\n",
       "    </tr>\n",
       "    <tr>\n",
       "      <td>b</td>\n",
       "      <td>4</td>\n",
       "      <td>5</td>\n",
       "      <td>6</td>\n",
       "      <td>7</td>\n",
       "      <td>16</td>\n",
       "      <td>17</td>\n",
       "      <td>18</td>\n",
       "      <td>19</td>\n",
       "    </tr>\n",
       "  </tbody>\n",
       "</table>\n",
       "</div>"
      ],
      "text/plain": [
       "   v1  v2  v3  v4  v5  v6  v7  v8\n",
       "a   0   1   2   3  12  13  14  15\n",
       "b   4   5   6   7  16  17  18  19"
      ]
     },
     "execution_count": 25,
     "metadata": {},
     "output_type": "execute_result"
    }
   ],
   "source": [
    "df_idx_merger = pd.merge(df_idx_1, df_idx_2, left_index=True, right_index=True)\n",
    "df_idx_merger"
   ]
  },
  {
   "cell_type": "code",
   "execution_count": null,
   "metadata": {},
   "outputs": [],
   "source": []
  }
 ],
 "metadata": {
  "kernelspec": {
   "display_name": "Python 3",
   "language": "python",
   "name": "python3"
  },
  "language_info": {
   "codemirror_mode": {
    "name": "ipython",
    "version": 3
   },
   "file_extension": ".py",
   "mimetype": "text/x-python",
   "name": "python",
   "nbconvert_exporter": "python",
   "pygments_lexer": "ipython3",
   "version": "3.7.4"
  }
 },
 "nbformat": 4,
 "nbformat_minor": 2
}
